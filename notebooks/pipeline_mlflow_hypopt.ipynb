{
 "cells": [
  {
   "cell_type": "code",
   "execution_count": 80,
   "metadata": {},
   "outputs": [],
   "source": [
    "import mlflow\n",
    "import mlflow.tensorflow\n",
    "import pandas as pd\n",
    "import numpy as np\n",
    "import argparse\n",
    "import tensorflow as tf\n",
    "from tensorflow.keras.layers import Dense, Flatten, Conv2D\n",
    "from tensorflow.keras import Model\n",
    "from tensorflow.keras.datasets.mnist import load_data\n",
    "import os\n",
    "import datetime\n",
    "import uuid\n",
    "import time\n",
    "import logging\n",
    "from hyperopt import (fmin, tpe, hp, STATUS_OK, STATUS_FAIL, Trials)\n",
    "idx = pd.IndexSlice\n",
    "%load_ext autoreload\n",
    "%autoreload"
   ]
  },
  {
   "cell_type": "markdown",
   "metadata": {},
   "source": [
    "# Data process"
   ]
  },
  {
   "cell_type": "code",
   "execution_count": 3,
   "metadata": {},
   "outputs": [],
   "source": [
    "# INPUTS\n",
    "DATA_PATH = '/Users/camilovelasquez/Desktop/Documents/Datasets/WISDM-Smartphones/wisdm-dataset/raw'\n",
    "ids = np.arange(1600, 1650)\n",
    "devices = ['phone']\n",
    "sensors = ['accel']\n",
    "activities = ['A', 'B']\n",
    "time_taken = 3000\n",
    "time_split = 100"
   ]
  },
  {
   "cell_type": "code",
   "execution_count": 4,
   "metadata": {},
   "outputs": [],
   "source": [
    "train_batch_size = 8\n",
    "eval_batch_size = 16\n",
    "epochs = 5\n",
    "\n",
    "train_size = 2500\n",
    "valid_size = 220\n",
    "test_size = 220"
   ]
  },
  {
   "cell_type": "code",
   "execution_count": 5,
   "metadata": {},
   "outputs": [],
   "source": [
    "# Preprocessing data\n",
    "def read_WISDM_data(DATA_PATH, ids=np.arange(1600, 1650), \n",
    "                    devices=['phone'], sensors=['accel']):\n",
    "    \"\"\"Read from DATA PATH and create a pandas table from it\"\"\"\n",
    "    i = 0\n",
    "    for current_id in ids:\n",
    "        for current_device in devices:\n",
    "            for current_sensor in sensors:\n",
    "                file_path = os.path.join(DATA_PATH, current_device, current_sensor, \n",
    "                                         'data_{}_{}_{}.txt'.format(current_id, current_sensor, current_device))\n",
    "                if i==0:\n",
    "                    table = pd.read_csv(file_path, delimiter=',', \n",
    "                                        names=['ID', 'Activity Label', 'Timestamp', 'x', 'y', 'z'], \n",
    "                                        lineterminator='\\n')\n",
    "                else:\n",
    "                    aux = pd.read_csv(file_path, delimiter=',', \n",
    "                                      names=['ID', 'Activity Label', 'Timestamp', 'x', 'y', 'z'], \n",
    "                                        lineterminator='\\n')\n",
    "                    table = pd.concat([table, aux], axis=0)\n",
    "                i+=1\n",
    "    table.loc[:,'z'] = table.z.str.replace(';','').astype(np.float32)\n",
    "    return table\n",
    "\n",
    "def transform_data(table, time_taken, time_split):\n",
    "    \"\"\"Transform data from raw table into a zip of (features, labels),\n",
    "        where features has shape (samples, time_steps, features), and labels (samples,)\"\"\"\n",
    "    table = table.set_index(['ID', 'Activity Label'])\n",
    "    table = table.groupby(['ID', 'Activity Label']).head(time_taken)\n",
    "    timestamp_edit = np.tile(np.arange(0,time_split), int(table.shape[0]/time_split))\n",
    "    table['Timestamp'] = timestamp_edit\n",
    "    table = table.reset_index().set_index(['ID', 'Activity Label', 'Timestamp'], append=True)\n",
    "    features = table.values.reshape((int(table.shape[0]/time_split), time_split, table.shape[1]))\n",
    "    labels = table.reset_index()['Activity Label']\\\n",
    "        .values[np.arange(0,int(table.shape[0]/time_split)*time_split, time_split)]\n",
    "    return features, labels\n",
    "\n",
    "def preprocessing_data(table, time_taken=3000, time_split=100, activities=['A', 'B']):\n",
    "    \"\"\"Preprocess table and convert it into tf dataset\"\"\"\n",
    "    features, labels = transform_data(table, time_taken=time_taken, time_split=time_split)\n",
    "    dataset = tf.data.Dataset.from_tensor_slices(({'feature': features}, {'label': labels}))\n",
    "    ds = dataset.filter(lambda x, y: tf.reduce_any(tf.equal(y['label'], activities))==True)\n",
    "    ds = ds.map(label2prob)\n",
    "    return ds\n",
    "\n",
    "def label2prob(feature, label):\n",
    "    new_label = tf.where(tf.equal(label['label'], 'A'), 1, 0)\n",
    "    label['label'] = new_label\n",
    "    return feature, label"
   ]
  },
  {
   "cell_type": "code",
   "execution_count": 6,
   "metadata": {},
   "outputs": [],
   "source": [
    "table = read_WISDM_data(DATA_PATH, ids=ids, devices=devices, sensors=sensors)\n",
    "ds = preprocessing_data(table, time_taken=time_taken, time_split=time_split, activities=activities)"
   ]
  },
  {
   "cell_type": "markdown",
   "metadata": {},
   "source": [
    "# Adding params"
   ]
  },
  {
   "cell_type": "code",
   "execution_count": 7,
   "metadata": {},
   "outputs": [],
   "source": [
    "params = {'sampling': hp.choice('sampling', [\n",
    "                                {'type' : 'under', \n",
    "                                 'low_perc' : hp.choice('low_perc', [0.1, 0.2, 0.3])},\n",
    "                                {'type' : 'over', \n",
    "                                 'low_perc' : hp.choice('low_perc', [0.1, 0.2, 0.3])}]),\n",
    "          'batch_size' : hp.choice('batch_size', [64, 128, 256]),\n",
    "          'test_mode' : True,\n",
    "          'weighted' : hp.choice('weighted', [None, 'regular', 'double']),\n",
    "          'eval_batch_size' : 256,\n",
    "          'optimizer': hp.choice('optimizer', [\n",
    "              {'type': 'adam', \n",
    "               'lr' : hp.loguniform('lr_mult', -1, 3)}, \n",
    "              {'type' : 'SGD', \n",
    "               'lr' :  hp.loguniform('lr_mult', -1, 3)} ]),\n",
    "          'loss': hp.choice('loss', [\n",
    "              {'type': 'binary_crossentropy'}, \n",
    "              {'type' : 'focal_loss', \n",
    "               'alpha' :  hp.uniform('alpha', -1, 3), \n",
    "               'gamma' : hp.choice('gamma', [0.5, 0.75, 1.0])} ]),\n",
    "         }"
   ]
  },
  {
   "cell_type": "code",
   "execution_count": 8,
   "metadata": {},
   "outputs": [],
   "source": [
    "params = {'batch_size' : hp.choice('batch_size', [8, 16, 32]), \n",
    "          'weighted' : hp.choice('weighted', [True, False]), \n",
    "          'layer_1' : hp.choice('layer_1', [{'kernel_1': hp.choice('kernel_1', [7, 11, 15, 19, 23, 27]), \n",
    "                                             'filters_1' : hp.choice('filters_1', [16, 32, 64, 128])}]), \n",
    "          'layer_2' : hp.choice('layer_2', [{'kernel_2': hp.choice('kernel_2', [7, 11, 15, 19, 23, 27]), \n",
    "                                             'filters_2' : hp.choice('filters_2', [16, 32, 64, 128])}])}"
   ]
  },
  {
   "cell_type": "code",
   "execution_count": 12,
   "metadata": {},
   "outputs": [
    {
     "name": "stdout",
     "output_type": "stream",
     "text": [
      "INFO: 'testing_with_hyper_opt_final_tf' does not exist. Creating a new experiment\n",
      "Experiment Name:  testing_with_hyper_opt_final_tf\n"
     ]
    }
   ],
   "source": [
    "EXPERIMENT_NAME = 'testing_with_hyper_opt_final_tf'\n",
    "#mlflow.set_tracking_uri(URI) # If you have an instance\n",
    "mlflow.set_experiment(EXPERIMENT_NAME)\n",
    "print(\"Experiment Name: \", EXPERIMENT_NAME)"
   ]
  },
  {
   "cell_type": "markdown",
   "metadata": {},
   "source": [
    "# Building params"
   ]
  },
  {
   "cell_type": "code",
   "execution_count": 13,
   "metadata": {},
   "outputs": [],
   "source": [
    "#Model params\n",
    "def build_model(time_split, params):\n",
    "    inputs = tf.keras.Input(shape=(time_split, 3), name='feature')\n",
    "    x = tf.keras.layers.BatchNormalization(axis=2)(inputs)\n",
    "    x_1 = tf.keras.layers.Conv1D(filters=params['layer_1']['filters_1'], \n",
    "                                 kernel_size=params['layer_1']['kernel_1'])(x)\n",
    "    x_1 = tf.keras.layers.GlobalMaxPool1D()(x_1)\n",
    "    x_3 = tf.keras.layers.Conv1D(filters=params['layer_2']['filters_2'], \n",
    "                                 kernel_size=params['layer_2']['kernel_2'])(x)\n",
    "    x_3 = tf.keras.layers.GlobalMaxPool1D()(x_3)\n",
    "    x_5 = tf.keras.layers.Conv1D(filters=32, kernel_size=63)(x)\n",
    "    x_5 = tf.keras.layers.GlobalMaxPool1D()(x_5)\n",
    "    x = tf.keras.layers.Concatenate()([x_1, x_3, x_5])\n",
    "    x = tf.keras.layers.Dense(16, activation='relu')(x)\n",
    "    output = tf.keras.layers.Dense(1, activation='sigmoid', name='label')(x)\n",
    "    model = tf.keras.Model(inputs=[inputs], outputs=output)\n",
    "    return model\n",
    "\n",
    "def build_optimizer():\n",
    "    optimizer='adam'\n",
    "    return optimizer\n",
    "\n",
    "def build_loss():\n",
    "    loss='binary_crossentropy'\n",
    "    return loss\n",
    "\n",
    "def build_metrics():\n",
    "    metrics=['accuracy']\n",
    "    return metrics\n",
    "\n",
    "def compile_model(model, optimizer='adam', loss='binary_crossentropy', metrics=['accuracy']):\n",
    "    model.compile(loss=loss, optimizer=optimizer, metrics=metrics)\n",
    "    return model\n",
    "\n",
    "def train_model(model, train_ds=None, valid_ds=None):\n",
    "    model.fit()\n",
    "\n",
    "def save_summary(line, file='model_summary.txt'):\n",
    "    with open(file, 'a') as f:\n",
    "        f.write(line +'\\n')\n",
    "    \n",
    "def build_class_weights(weight_type):\n",
    "    if weight_type:\n",
    "        class_weight = {1: 0.8, 0: 0.2}\n",
    "    else:\n",
    "        class_weight = None\n",
    "    return class_weight"
   ]
  },
  {
   "cell_type": "code",
   "execution_count": 14,
   "metadata": {},
   "outputs": [],
   "source": [
    "def build_callbacks(params):\n",
    "    callbacks = []\n",
    "    if 'es' in params['train']['params']['callbacks']:\n",
    "        es_callback = tf.keras.callbacks.EarlyStopping(monitor='val_accuracy',\n",
    "                                               patience=5,\n",
    "                                               mode='max',\n",
    "                                               restore_best_weights=True)\n",
    "        callbacks.append(es_callback)\n",
    "    elif 'cp' in params['train']['params']['callbacks']:\n",
    "        cp_callback = tf.keras.callbacks.ModelCheckpoint(filepath=checkpoint_path,\n",
    "                                                         save_weights_only=True,\n",
    "                                                         verbose=1)\n",
    "        callbacks.append(cp_callback)\n",
    "    return callbacks"
   ]
  },
  {
   "cell_type": "code",
   "execution_count": 15,
   "metadata": {},
   "outputs": [],
   "source": [
    "es_callback = tf.keras.callbacks.EarlyStopping(monitor='val_accuracy',\n",
    "                                               patience=5,\n",
    "                                               mode='max',\n",
    "                                               restore_best_weights=True)\n",
    "callbacks = [es_callback]"
   ]
  },
  {
   "cell_type": "code",
   "execution_count": 16,
   "metadata": {},
   "outputs": [],
   "source": [
    "def transform_key_value_pair(kv_pairs, key, dictionary):\n",
    "    if type(dictionary) is dict:\n",
    "        for new_key, new_value in dictionary.items():\n",
    "            if key is not None:\n",
    "                transform_key_value_pair(kv_pairs, key + '_' + str(new_key), new_value)\n",
    "            else:\n",
    "                transform_key_value_pair(kv_pairs, new_key, new_value)    \n",
    "    else:\n",
    "        kv_pairs[key] = dictionary\n",
    "        \n",
    "def example(**args):\n",
    "    print(args)\n",
    "    for arg in args:\n",
    "        print(arg)"
   ]
  },
  {
   "cell_type": "code",
   "execution_count": 135,
   "metadata": {},
   "outputs": [],
   "source": [
    "def objetive(params):\n",
    "    print('params: ',params)\n",
    "    summary_filename = 'summary.txt'\n",
    "    if os.path.exists(summary_filename):\n",
    "        os.remove(summary_filename)\n",
    "    run_name = 'model_' + str(uuid.uuid4())[:5]\n",
    "    with mlflow.start_run(run_name=run_name) as run:\n",
    "        out_run = run.to_dictionary()\n",
    "        print(out_run['info']['run_id'])\n",
    "        mlflow.tensorflow.autolog()\n",
    "        new_params = dict()\n",
    "        transform_key_value_pair(new_params, None, params)\n",
    "        #Model\n",
    "        model = build_model(time_split=time_split, params=params)\n",
    "        optimizer = build_optimizer()\n",
    "        loss = build_loss()\n",
    "        metrics = build_metrics()\n",
    "        model = compile_model(model=model, optimizer=optimizer, loss=loss, metrics=metrics)\n",
    "        # model.summary(line_length=150, positions=[0.33, .55, .67, 1.],print_fn = lambda x: save_summary(x, file=summary_filename))\n",
    "        \n",
    "        #Build dataset\n",
    "        ds_train = ds.take(train_size)\n",
    "        ds_train = ds_train.repeat(count=epochs)\n",
    "        ds_train = ds_train.batch(params['batch_size'])\n",
    "        ds_train = ds_train.prefetch(1)\n",
    "\n",
    "        ds_valid = ds.skip(train_size).take(valid_size)\n",
    "        ds_valid = ds_valid.repeat(count=1)\n",
    "        ds_valid = ds_valid.batch(params['batch_size'])\n",
    "        ds_valid = ds_valid.prefetch(1)\n",
    "\n",
    "        ds_test = ds.skip(train_size+valid_size)\n",
    "        ds_test = ds_test.batch(eval_batch_size)\n",
    "        \n",
    "        #Train\n",
    "        \n",
    "        history = model.fit(ds_train, \n",
    "                    validation_data=ds_valid,\n",
    "                    steps_per_epoch=train_size//params['batch_size'],  \n",
    "                    epochs=epochs, \n",
    "                    callbacks=callbacks,\n",
    "                    verbose=1, \n",
    "                    class_weight=build_class_weights(params['weighted']),\n",
    "                    shuffle=False)\n",
    "        # Metrics\n",
    "        mlflow.log_metric('val_accuracy', max(history.history['val_accuracy']))\n",
    "        for k, v in new_params.items():\n",
    "            mlflow.log_param(k, v)\n",
    "        # Artifacts\n",
    "        tf.keras.backend.clear_session()\n",
    "        \n",
    "        mlflow.end_run()\n",
    "    return {'loss': -max(history.history['val_accuracy']), 'status': STATUS_OK}"
   ]
  },
  {
   "cell_type": "code",
   "execution_count": 136,
   "metadata": {},
   "outputs": [
    {
     "name": "stdout",
     "output_type": "stream",
     "text": [
      "params:                                              \n",
      "{'batch_size': 8, 'layer_1': {'filters_1': 128, 'kernel_1': 11}, 'layer_2': {'filters_2': 16, 'kernel_2': 15}, 'weighted': False}\n",
      "c7a0d59839114c60883f3b4fab0381c8                     \n",
      "Train for 312 steps                                  \n",
      "Epoch 1/5                                            \n",
      "  1/312 [..............................]             \n",
      " - ETA: 4:54 - loss: 0.9015 - accuracy: 0.0000e+00   \n",
      "                                                    \n",
      "  8/312 [..............................]             \n",
      " - ETA: 38s - loss: 0.7140 - accuracy: 0.4219        \n",
      "                                                     \n",
      " 16/312 [>.............................]             \n",
      " - ETA: 20s - loss: 0.6823 - accuracy: 0.5000        \n",
      "                                                     \n",
      " 23/312 [=>............................]             \n",
      " - ETA: 14s - loss: 0.6455 - accuracy: 0.6413        \n",
      "                                                     \n",
      " 31/312 [=>............................]             \n",
      " - ETA: 11s - loss: 0.6268 - accuracy: 0.6976        \n",
      "                                                     \n",
      " 38/312 [==>...........................]             \n",
      " - ETA: 9s - loss: 0.6008 - accuracy: 0.7533         \n",
      "                                                    \n",
      " 46/312 [===>..........................]             \n",
      " - ETA: 7s - loss: 0.5927 - accuracy: 0.7690         \n",
      "                                                    \n",
      " 54/312 [====>.........................]             \n",
      " - ETA: 6s - loss: 0.6106 - accuracy: 0.7338         \n",
      "                                                    \n",
      " 61/312 [====>.........................]             \n",
      " - ETA: 6s - loss: 0.6163 - accuracy: 0.7275         \n",
      "                                                    \n",
      " 68/312 [=====>........................]             \n",
      " - ETA: 5s - loss: 0.6251 - accuracy: 0.6949         \n",
      "                                                    \n",
      " 74/312 [======>.......................]             \n",
      " - ETA: 5s - loss: 0.6162 - accuracy: 0.6976         \n",
      "                                                    \n",
      " 80/312 [======>.......................]             \n",
      " - ETA: 4s - loss: 0.6045 - accuracy: 0.7188         \n",
      "                                                    \n",
      " 87/312 [=======>......................]             \n",
      " - ETA: 4s - loss: 0.5955 - accuracy: 0.7356         \n",
      "                                                    \n",
      " 94/312 [========>.....................]             \n",
      " - ETA: 3s - loss: 0.6021 - accuracy: 0.7181         \n",
      "                                                    \n",
      "102/312 [========>.....................]             \n",
      " - ETA: 3s - loss: 0.5839 - accuracy: 0.7390         \n",
      "                                                    \n",
      "109/312 [=========>....................]             \n",
      " - ETA: 3s - loss: 0.5813 - accuracy: 0.7408         \n",
      "                                                    \n",
      "117/312 [==========>...................]             \n",
      " - ETA: 3s - loss: 0.5769 - accuracy: 0.7479         \n",
      "                                                    \n",
      "124/312 [==========>...................]             \n",
      " - ETA: 2s - loss: 0.5900 - accuracy: 0.7339         \n",
      "                                                    \n",
      "129/312 [===========>..................]             \n",
      " - ETA: 2s - loss: 0.5844 - accuracy: 0.7422         \n",
      "                                                    \n",
      "136/312 [============>.................]             \n",
      " - ETA: 2s - loss: 0.5785 - accuracy: 0.7472         \n",
      "                                                    \n",
      "143/312 [============>.................]             \n",
      " - ETA: 2s - loss: 0.5838 - accuracy: 0.7360         \n",
      "                                                    \n",
      "151/312 [=============>................]             \n",
      " - ETA: 2s - loss: 0.5774 - accuracy: 0.7425         \n",
      "                                                    \n",
      "158/312 [==============>...............]             \n",
      " - ETA: 2s - loss: 0.5702 - accuracy: 0.7516         \n",
      "                                                    \n",
      "166/312 [==============>...............]             \n",
      " - ETA: 1s - loss: 0.5626 - accuracy: 0.7560         \n",
      "                                                    \n",
      "173/312 [===============>..............]             \n",
      " - ETA: 1s - loss: 0.5642 - accuracy: 0.7536         \n",
      "                                                    \n",
      "181/312 [================>.............]             \n",
      " - ETA: 1s - loss: 0.5582 - accuracy: 0.7624         \n",
      "                                                    \n",
      "189/312 [=================>............]             \n",
      " - ETA: 1s - loss: 0.5588 - accuracy: 0.7566         \n",
      "                                                    \n",
      "197/312 [=================>............]             \n",
      " - ETA: 1s - loss: 0.5628 - accuracy: 0.7494         \n",
      "                                                    \n",
      "205/312 [==================>...........]             \n",
      " - ETA: 1s - loss: 0.5619 - accuracy: 0.7494         \n",
      "                                                    \n",
      "213/312 [===================>..........]             \n",
      " - ETA: 1s - loss: 0.5538 - accuracy: 0.7523         \n",
      "                                                    \n",
      "221/312 [====================>.........]             \n",
      " - ETA: 1s - loss: 0.5425 - accuracy: 0.7607         \n",
      "                                                    \n",
      "229/312 [=====================>........]             \n",
      " - ETA: 0s - loss: 0.5341 - accuracy: 0.7691         \n",
      "                                                    \n",
      "234/312 [=====================>........]             \n",
      " - ETA: 0s - loss: 0.5304 - accuracy: 0.7698         \n",
      "                                                    \n",
      "241/312 [======================>.......]             \n",
      " - ETA: 0s - loss: 0.5212 - accuracy: 0.7744         \n",
      "                                                    \n",
      "248/312 [======================>.......]             \n",
      " - ETA: 0s - loss: 0.5289 - accuracy: 0.7686         \n",
      "                                                    \n",
      "256/312 [=======================>......]             \n",
      " - ETA: 0s - loss: 0.5244 - accuracy: 0.7710         \n",
      "                                                    \n",
      "264/312 [========================>.....]             \n",
      " - ETA: 0s - loss: 0.5267 - accuracy: 0.7652         \n",
      "                                                    \n",
      "272/312 [=========================>....]             \n",
      " - ETA: 0s - loss: 0.5195 - accuracy: 0.7698         \n",
      "                                                    \n",
      "280/312 [=========================>....]             \n",
      " - ETA: 0s - loss: 0.5138 - accuracy: 0.7737         \n",
      "                                                    \n",
      "289/312 [==========================>...]             \n",
      " - ETA: 0s - loss: 0.5122 - accuracy: 0.7742         \n",
      "                                                    \n",
      "297/312 [===========================>..]             \n",
      " - ETA: 0s - loss: 0.5014 - accuracy: 0.7803         \n",
      "                                                    \n",
      "302/312 [============================>.]             \n",
      " - ETA: 0s - loss: 0.4968 - accuracy: 0.7835         \n",
      "                                                    \n",
      "309/312 [============================>.]             \n",
      " - ETA: 0s - loss: 0.4996 - accuracy: 0.7816         \n",
      "                                                    \n",
      "312/312 [==============================]             \n",
      " - 4s 14ms/step - loss: 0.5003 - accuracy: 0.7812 - val_loss: 0.7375 - val_accuracy: 0.6682\n",
      "\n",
      "Epoch 2/5                                            \n",
      " 1/28 [>.............................]               \n",
      " - ETA: 0s - loss: 0.2763 - accuracy: 1.0000         \n",
      "                                                    \n",
      " 9/28 [========>.....................]               \n",
      " - ETA: 0s - loss: 0.1282 - accuracy: 0.9583         \n",
      "                                                    \n",
      "16/28 [================>.............]               \n",
      " - ETA: 0s - loss: 0.1736 - accuracy: 0.9609         \n",
      "                                                    \n",
      "24/28 [========================>.....]               \n",
      " - ETA: 0s - loss: 0.1290 - accuracy: 0.9740         \n",
      "                                                    \n",
      "312/28 [==============================================================================================================================================================================================================================================================================================================================================]\n"
     ]
    },
    {
     "name": "stdout",
     "output_type": "stream",
     "text": [
      " - 3s 9ms/step - loss: 0.1709 - accuracy: 0.9459 - val_loss: 0.5158 - val_accuracy: 0.7409\n",
      "\n",
      "Epoch 3/5                                            \n",
      " 1/28 [>.............................]               \n",
      " - ETA: 0s - loss: 0.0993 - accuracy: 1.0000         \n",
      "                                                    \n",
      " 9/28 [========>.....................]               \n",
      " - ETA: 0s - loss: 0.0200 - accuracy: 1.0000         \n",
      "                                                    \n",
      "17/28 [=================>............]               \n",
      " - ETA: 0s - loss: 0.0175 - accuracy: 1.0000         \n",
      "                                                    \n",
      "25/28 [=========================>....]               \n",
      " - ETA: 0s - loss: 0.0190 - accuracy: 1.0000         \n",
      "                                                    \n",
      "312/28 [==============================================================================================================================================================================================================================================================================================================================================]\n",
      " - 3s 8ms/step - loss: 0.0661 - accuracy: 0.9880 - val_loss: 0.2604 - val_accuracy: 0.8636\n",
      "\n",
      "Epoch 4/5                                            \n",
      " 1/28 [>.............................]               \n",
      " - ETA: 0s - loss: 0.2292 - accuracy: 0.8750         \n",
      "                                                    \n",
      "10/28 [=========>....................]               \n",
      " - ETA: 0s - loss: 0.0317 - accuracy: 0.9875         \n",
      "                                                    \n",
      "17/28 [=================>............]               \n",
      " - ETA: 0s - loss: 0.0235 - accuracy: 0.9926         \n",
      "                                                    \n",
      "25/28 [=========================>....]               \n",
      " - ETA: 0s - loss: 0.0176 - accuracy: 0.9950         \n",
      "                                                    \n",
      "312/28 [==============================================================================================================================================================================================================================================================================================================================================]\n",
      " - 3s 8ms/step - loss: 0.0159 - accuracy: 0.9960 - val_loss: 0.2569 - val_accuracy: 0.8909\n",
      "\n",
      "Epoch 5/5                                            \n",
      " 1/28 [>.............................]               \n",
      " - ETA: 0s - loss: 0.1064 - accuracy: 1.0000         \n",
      "                                                    \n",
      "10/28 [=========>....................]               \n",
      " - ETA: 0s - loss: 0.0131 - accuracy: 1.0000         \n",
      "                                                    \n",
      "18/28 [==================>...........]               \n",
      " - ETA: 0s - loss: 0.0079 - accuracy: 1.0000         \n",
      "                                                    \n",
      "26/28 [==========================>...]               \n",
      " - ETA: 0s - loss: 0.0057 - accuracy: 1.0000         \n",
      "                                                    \n",
      "312/28 [==============================================================================================================================================================================================================================================================================================================================================]\n",
      " - 3s 8ms/step - loss: 0.0045 - accuracy: 0.9984 - val_loss: 0.2177 - val_accuracy: 0.9136\n",
      "\n",
      "100%|██████████| 1/1 [00:15<00:00, 15.20s/trial, best loss: -0.9136363863945007]\n"
     ]
    }
   ],
   "source": [
    "trials = Trials()\n",
    "_ = fmin(objetive, params, trials=trials, algo=tpe.suggest, max_evals=1)"
   ]
  },
  {
   "cell_type": "markdown",
   "metadata": {},
   "source": [
    "# Experiment LR Scheduler"
   ]
  },
  {
   "cell_type": "code",
   "execution_count": 3,
   "metadata": {},
   "outputs": [],
   "source": [
    "import matplotlib.pyplot as plt\n",
    "\n",
    "def loguniform(low=0, high=1, size=None):\n",
    "    return np.exp(np.random.uniform(low, high, size))"
   ]
  },
  {
   "cell_type": "code",
   "execution_count": 72,
   "metadata": {},
   "outputs": [],
   "source": [
    "x = loguniform(low=-10.4, high=-2.8, size=2000)"
   ]
  },
  {
   "cell_type": "code",
   "execution_count": 73,
   "metadata": {},
   "outputs": [
    {
     "data": {
      "image/png": "[encoded data removed]",
      "text/plain": [
       "<Figure size 432x288 with 1 Axes>"
      ]
     },
     "metadata": {
      "needs_background": "light"
     },
     "output_type": "display_data"
    }
   ],
   "source": [
    "plt.hist(x, bins=20)\n",
    "plt.show()"
   ]
  },
  {
   "cell_type": "code",
   "execution_count": 74,
   "metadata": {},
   "outputs": [
    {
     "name": "stdout",
     "output_type": "stream",
     "text": [
      "Min: 0.00003051, Max: 0.06069313998961354\n"
     ]
    }
   ],
   "source": [
    "print(\"Min: {:.8f}, Max: {}\".format(x.min(), x.max()))"
   ]
  },
  {
   "cell_type": "code",
   "execution_count": 39,
   "metadata": {},
   "outputs": [],
   "source": [
    "x = np.random.lognormal(-6, 1, 500)"
   ]
  },
  {
   "cell_type": "code",
   "execution_count": 119,
   "metadata": {},
   "outputs": [
    {
     "data": {
      "text/plain": [
       "0.004330304497495597"
      ]
     },
     "execution_count": 119,
     "metadata": {},
     "output_type": "execute_result"
    }
   ],
   "source": [
    "x.mean()"
   ]
  },
  {
   "cell_type": "code",
   "execution_count": 120,
   "metadata": {},
   "outputs": [
    {
     "data": {
      "image/png": "[encoded data removed]",
      "text/plain": [
       "<Figure size 432x288 with 1 Axes>"
      ]
     },
     "metadata": {
      "needs_background": "light"
     },
     "output_type": "display_data"
    }
   ],
   "source": [
    "plt.hist(x, bins=20)\n",
    "plt.show()"
   ]
  },
  {
   "cell_type": "code",
   "execution_count": 121,
   "metadata": {},
   "outputs": [
    {
     "data": {
      "text/plain": [
       "0.00012093505262095613"
      ]
     },
     "execution_count": 121,
     "metadata": {},
     "output_type": "execute_result"
    }
   ],
   "source": [
    "x.min()"
   ]
  },
  {
   "cell_type": "code",
   "execution_count": 122,
   "metadata": {},
   "outputs": [
    {
     "data": {
      "text/plain": [
       "0.08559086951461047"
      ]
     },
     "execution_count": 122,
     "metadata": {},
     "output_type": "execute_result"
    }
   ],
   "source": [
    "x.max()"
   ]
  },
  {
   "cell_type": "code",
   "execution_count": null,
   "metadata": {},
   "outputs": [],
   "source": [
    "round(uniform(low, high) / q) * q"
   ]
  },
  {
   "cell_type": "code",
   "execution_count": 76,
   "metadata": {},
   "outputs": [],
   "source": [
    "def quniform(low, high, q):\n",
    "    out = np.round(np.random.uniform(low, high, 300)/q)*q\n",
    "    return out"
   ]
  },
  {
   "cell_type": "code",
   "execution_count": 78,
   "metadata": {},
   "outputs": [],
   "source": [
    "x = quniform(0, 2, 0.25)"
   ]
  },
  {
   "cell_type": "code",
   "execution_count": 79,
   "metadata": {},
   "outputs": [
    {
     "data": {
      "text/plain": [
       "array([0.5 , 1.75, 1.25, 1.25, 1.  , 1.25, 1.75, 0.5 , 0.  , 0.75, 2.  ,\n",
       "       0.  , 0.  , 1.  , 0.25, 0.75, 1.5 , 0.  , 2.  , 1.  , 1.  , 1.25,\n",
       "       1.75, 0.5 , 0.5 , 1.75, 1.25, 1.  , 1.  , 1.25, 0.25, 0.75, 1.  ,\n",
       "       0.75, 1.75, 0.75, 0.75, 1.5 , 0.25, 0.25, 1.75, 1.  , 0.25, 0.25,\n",
       "       0.75, 0.75, 0.25, 0.5 , 1.75, 2.  , 0.  , 0.  , 0.75, 0.  , 1.75,\n",
       "       0.5 , 1.5 , 0.75, 1.75, 1.75, 0.5 , 1.5 , 1.5 , 0.5 , 0.75, 1.5 ,\n",
       "       0.25, 2.  , 0.25, 1.25, 0.5 , 1.  , 1.5 , 1.75, 0.5 , 1.75, 1.75,\n",
       "       1.25, 0.75, 2.  , 2.  , 0.5 , 0.75, 1.  , 0.75, 2.  , 0.  , 0.25,\n",
       "       0.5 , 0.25, 0.5 , 0.25, 0.25, 1.  , 1.  , 1.75, 0.  , 1.  , 0.75,\n",
       "       0.75, 0.25, 0.5 , 1.5 , 0.75, 1.5 , 0.25, 2.  , 1.25, 0.  , 1.  ,\n",
       "       0.75, 1.25, 0.75, 0.75, 1.75, 1.25, 1.  , 0.  , 2.  , 0.5 , 1.75,\n",
       "       1.5 , 0.25, 0.  , 1.75, 1.25, 0.  , 0.25, 0.5 , 1.75, 0.75, 1.25,\n",
       "       1.25, 0.25, 0.25, 0.5 , 0.75, 0.5 , 1.75, 0.5 , 0.75, 0.25, 1.75,\n",
       "       0.25, 1.75, 0.5 , 2.  , 0.25, 1.5 , 1.25, 1.  , 1.75, 1.5 , 0.25,\n",
       "       1.75, 1.5 , 1.25, 1.  , 1.25, 1.5 , 1.5 , 1.5 , 0.5 , 1.  , 0.25,\n",
       "       1.  , 0.5 , 0.5 , 0.  , 1.75, 1.75, 1.25, 1.  , 0.5 , 0.25, 1.75,\n",
       "       1.  , 1.  , 0.5 , 1.5 , 1.5 , 1.75, 0.25, 1.5 , 1.75, 1.25, 0.5 ,\n",
       "       2.  , 0.25, 1.  , 2.  , 0.5 , 0.5 , 0.25, 1.25, 0.5 , 0.  , 0.  ,\n",
       "       1.25, 1.5 , 0.5 , 2.  , 1.5 , 1.75, 1.25, 0.25, 1.75, 1.25, 0.75,\n",
       "       0.5 , 1.75, 0.25, 0.5 , 0.75, 2.  , 1.25, 0.  , 0.  , 1.25, 1.5 ,\n",
       "       1.  , 1.  , 0.25, 1.5 , 0.5 , 2.  , 1.25, 0.  , 0.25, 0.  , 2.  ,\n",
       "       2.  , 1.25, 1.25, 1.5 , 2.  , 1.5 , 0.75, 1.25, 0.75, 0.5 , 1.  ,\n",
       "       0.5 , 0.25, 1.5 , 2.  , 0.25, 0.25, 2.  , 1.5 , 2.  , 1.75, 1.5 ,\n",
       "       1.5 , 0.  , 0.5 , 1.  , 0.25, 1.  , 0.5 , 1.25, 1.75, 0.25, 1.5 ,\n",
       "       0.25, 1.75, 0.5 , 0.25, 1.25, 0.  , 0.5 , 1.75, 1.5 , 0.25, 1.5 ,\n",
       "       0.25, 0.25, 0.75, 1.25, 0.25, 0.75, 0.5 , 1.75, 0.75, 0.5 , 1.5 ,\n",
       "       0.  , 1.  , 0.75, 0.75, 1.25, 0.75, 1.  , 1.75, 1.75, 2.  , 1.25,\n",
       "       0.25, 1.5 , 0.5 ])"
      ]
     },
     "execution_count": 79,
     "metadata": {},
     "output_type": "execute_result"
    }
   ],
   "source": [
    "x"
   ]
  },
  {
   "cell_type": "code",
   "execution_count": 81,
   "metadata": {},
   "outputs": [],
   "source": [
    "f = open('file.txt','w')"
   ]
  },
  {
   "cell_type": "code",
   "execution_count": 82,
   "metadata": {},
   "outputs": [
    {
     "data": {
      "text/plain": [
       "<_io.TextIOWrapper name='file.txt' mode='w' encoding='UTF-8'>"
      ]
     },
     "execution_count": 82,
     "metadata": {},
     "output_type": "execute_result"
    }
   ],
   "source": [
    "f"
   ]
  },
  {
   "cell_type": "code",
   "execution_count": null,
   "metadata": {},
   "outputs": [],
   "source": [
    "f.write(\"\" + \"/n\")"
   ]
  }
 ],
 "metadata": {
  "kernelspec": {
   "display_name": "Python [conda env:mlflow_tune]",
   "language": "python",
   "name": "conda-env-mlflow_tune-py"
  },
  "language_info": {
   "codemirror_mode": {
    "name": "ipython",
    "version": 3
   },
   "file_extension": ".py",
   "mimetype": "text/x-python",
   "name": "python",
   "nbconvert_exporter": "python",
   "pygments_lexer": "ipython3",
   "version": "3.7.6"
  }
 },
 "nbformat": 4,
 "nbformat_minor": 2
}
